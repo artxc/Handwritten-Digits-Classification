{
 "cells": [
  {
   "cell_type": "code",
   "execution_count": 1,
   "metadata": {},
   "outputs": [],
   "source": [
    "%reload_ext autoreload\n",
    "%autoreload 2\n",
    "%matplotlib inline"
   ]
  },
  {
   "cell_type": "code",
   "execution_count": 2,
   "metadata": {},
   "outputs": [],
   "source": [
    "import numpy as np\n",
    "import matplotlib.pyplot as plt\n",
    "\n",
    "from sklearn.metrics import accuracy_score\n",
    "from sklearn.model_selection import train_test_split\n",
    "from torchvision import datasets\n",
    "\n",
    "from models import Classifier, cross_entropy_with_grad\n",
    "from optimizers import MomentumSGD\n",
    "from gradient_check import *\n",
    "from layers import *"
   ]
  },
  {
   "cell_type": "code",
   "execution_count": 3,
   "metadata": {},
   "outputs": [],
   "source": [
    "np.random.seed(42)"
   ]
  },
  {
   "cell_type": "markdown",
   "metadata": {},
   "source": [
    "## Загружаем и обрабатываем данные"
   ]
  },
  {
   "cell_type": "code",
   "execution_count": 4,
   "metadata": {},
   "outputs": [],
   "source": [
    "train_dataset = datasets.MNIST('./data', train=True, download=True)\n",
    "X_train, y_train = train_dataset.data.numpy(), train_dataset.targets.numpy()"
   ]
  },
  {
   "cell_type": "code",
   "execution_count": 5,
   "metadata": {},
   "outputs": [
    {
     "data": {
      "image/png": "[encoded data removed]",
      "text/plain": [
       "<Figure size 432x288 with 30 Axes>"
      ]
     },
     "metadata": {
      "needs_background": "light"
     },
     "output_type": "display_data"
    }
   ],
   "source": [
    "for plot_index in range(30):\n",
    "    plt.subplot(3, 10, plot_index + 1)\n",
    "    plt.imshow(X_train[plot_index], cmap=plt.cm.gray_r)\n",
    "    plt.axis('off')"
   ]
  },
  {
   "cell_type": "code",
   "execution_count": 6,
   "metadata": {},
   "outputs": [
    {
     "name": "stdout",
     "output_type": "stream",
     "text": [
      "Train shape: (60000, 28, 28, 1)\n"
     ]
    }
   ],
   "source": [
    "X_train = X_train.astype(float, copy=False) / 255\n",
    "\n",
    "mean, std = 0.1307, 0.3081\n",
    "X_train = (X_train - mean) / std\n",
    "\n",
    "X_train = X_train[:, :, :, np.newaxis]\n",
    "print(f'Train shape: {X_train.shape}')"
   ]
  },
  {
   "cell_type": "markdown",
   "metadata": {},
   "source": [
    "## Проверим градиенты слоёв"
   ]
  },
  {
   "cell_type": "code",
   "execution_count": 7,
   "metadata": {},
   "outputs": [
    {
     "data": {
      "text/plain": [
       "((1, 28, 28, 1), (1,))"
      ]
     },
     "execution_count": 7,
     "metadata": {},
     "output_type": "execute_result"
    }
   ],
   "source": [
    "X, y = X_train[:1], y_train[:1]\n",
    "X.shape, y.shape"
   ]
  },
  {
   "cell_type": "markdown",
   "metadata": {},
   "source": [
    "# Conv2d"
   ]
  },
  {
   "cell_type": "code",
   "execution_count": 8,
   "metadata": {},
   "outputs": [
    {
     "name": "stdout",
     "output_type": "stream",
     "text": [
      "Gradient check passed!\n",
      "Gradient check passed!\n",
      "Gradient check passed!\n"
     ]
    }
   ],
   "source": [
    "layer = Conv2d(in_channels=1, out_channels=2, kernel_size=3)\n",
    "assert check_layer_gradient(layer, X)\n",
    "assert check_layer_parameter_gradient(layer, X, parameter_id=0)\n",
    "assert check_layer_parameter_gradient(layer, X, parameter_id=1)"
   ]
  },
  {
   "cell_type": "markdown",
   "metadata": {},
   "source": [
    "## MaxPool2d"
   ]
  },
  {
   "cell_type": "code",
   "execution_count": 9,
   "metadata": {},
   "outputs": [
    {
     "name": "stdout",
     "output_type": "stream",
     "text": [
      "Gradients are different at (0, 0, 0, 0). Analytic: -0.44594371386116016, Numeric: -0.2229718568003136\n"
     ]
    },
    {
     "data": {
      "text/plain": [
       "False"
      ]
     },
     "execution_count": 9,
     "metadata": {},
     "output_type": "execute_result"
    }
   ],
   "source": [
    "check_layer_gradient(MaxPool2d(2, 2), X)"
   ]
  },
  {
   "cell_type": "markdown",
   "metadata": {},
   "source": [
    "### Почему же так получилось? Взглянем на пиксели в углу нашей картинки 28x28"
   ]
  },
  {
   "cell_type": "code",
   "execution_count": 10,
   "metadata": {},
   "outputs": [
    {
     "data": {
      "text/plain": [
       "(28, 28)"
      ]
     },
     "execution_count": 10,
     "metadata": {},
     "output_type": "execute_result"
    }
   ],
   "source": [
    "X[0,:,:,0].shape"
   ]
  },
  {
   "cell_type": "code",
   "execution_count": 11,
   "metadata": {},
   "outputs": [
    {
     "data": {
      "text/plain": [
       "array([[-0.42421292, -0.42421292, -0.42421292, -0.42421292],\n",
       "       [-0.42421292, -0.42421292, -0.42421292, -0.42421292],\n",
       "       [-0.42421292, -0.42421292, -0.42421292, -0.42421292],\n",
       "       [-0.42421292, -0.42421292, -0.42421292, -0.42421292]])"
      ]
     },
     "execution_count": 11,
     "metadata": {},
     "output_type": "execute_result"
    }
   ],
   "source": [
    "X[0,:,:,0][:4,:4]"
   ]
  },
  {
   "cell_type": "markdown",
   "metadata": {},
   "source": [
    "### У нас MaxPool 2x2. Значит, когда в наш квадратик 2x2 попадают несколько значений, которые являются максимумом, мы отправляем градиент во все пиксели, где было максимальное значение. В этом случае посчитанный градиент будет неверным. Однако, маловероятно, что это случится на практике. Одно из возможных решений - разделить градиент поровну между максимальными пикселями. К сожалению, такая реализация приведёт к снижению производительности."
   ]
  },
  {
   "cell_type": "markdown",
   "metadata": {},
   "source": [
    "### Посмотрим на случай, когда в квадратике один максимум"
   ]
  },
  {
   "cell_type": "code",
   "execution_count": 12,
   "metadata": {},
   "outputs": [
    {
     "name": "stdout",
     "output_type": "stream",
     "text": [
      "Shape: (2, 2, 2, 2)\n",
      "\n",
      "[[ 1.  2.]\n",
      " [ 0. -1.]]\n",
      "\n",
      "[[ 0.  1.]\n",
      " [-2. -1.]]\n",
      "\n",
      "[[ 0.  1.]\n",
      " [-1. -2.]]\n",
      "\n",
      "[[ 1. -1.]\n",
      " [ 2.  0.]]\n",
      "\n",
      "Gradient check passed!\n"
     ]
    }
   ],
   "source": [
    "X_pool_test = np.array([\n",
    "              [\n",
    "               [[1.0, 0.0], [2.0, 1.0]],\n",
    "               [[0.0, -1.0], [-1.0, -2.0]]\n",
    "              ]\n",
    "              ,\n",
    "              [\n",
    "               [[0.0, 1.0], [1.0, -1.0]],\n",
    "               [[-2.0, 2.0], [-1.0, 0.0]]\n",
    "              ]\n",
    "             ])\n",
    "print(f'Shape: {X_pool_test.shape}', end='\\n\\n')\n",
    "print(X_pool_test[0,:,:,0], end='\\n\\n')\n",
    "print(X_pool_test[1,:,:,0], end='\\n\\n')\n",
    "print(X_pool_test[0,:,:,1], end='\\n\\n')\n",
    "print(X_pool_test[1,:,:,1], end='\\n\\n')\n",
    "assert check_layer_gradient(MaxPool2d(2, 2), X_pool_test)"
   ]
  },
  {
   "cell_type": "markdown",
   "metadata": {},
   "source": [
    "### В этом случае градиент верный!"
   ]
  },
  {
   "cell_type": "markdown",
   "metadata": {},
   "source": [
    "## Flattener"
   ]
  },
  {
   "cell_type": "code",
   "execution_count": 13,
   "metadata": {},
   "outputs": [
    {
     "name": "stdout",
     "output_type": "stream",
     "text": [
      "Gradient check passed!\n"
     ]
    }
   ],
   "source": [
    "assert check_layer_gradient(Flattener(), X)"
   ]
  },
  {
   "cell_type": "markdown",
   "metadata": {},
   "source": [
    "## Dropout"
   ]
  },
  {
   "cell_type": "code",
   "execution_count": 14,
   "metadata": {},
   "outputs": [
    {
     "name": "stdout",
     "output_type": "stream",
     "text": [
      "Gradient check passed!\n"
     ]
    }
   ],
   "source": [
    "assert check_layer_gradient(Dropout(p=0.5, train=True, grad_check=True), X)"
   ]
  },
  {
   "cell_type": "markdown",
   "metadata": {},
   "source": [
    "## ReLU"
   ]
  },
  {
   "cell_type": "code",
   "execution_count": 15,
   "metadata": {},
   "outputs": [
    {
     "name": "stdout",
     "output_type": "stream",
     "text": [
      "Gradient check passed!\n"
     ]
    }
   ],
   "source": [
    "assert check_layer_gradient(ReLU(), X)"
   ]
  },
  {
   "cell_type": "markdown",
   "metadata": {},
   "source": [
    "## Linear"
   ]
  },
  {
   "cell_type": "code",
   "execution_count": 16,
   "metadata": {},
   "outputs": [
    {
     "name": "stdout",
     "output_type": "stream",
     "text": [
      "Gradient check passed!\n",
      "Gradient check passed!\n",
      "Gradient check passed!\n"
     ]
    }
   ],
   "source": [
    "layer = Linear(28 * 28, 4)\n",
    "X_flattened = Flattener().forward(X)\n",
    "assert check_layer_gradient(layer, X_flattened)\n",
    "assert check_layer_parameter_gradient(layer, X_flattened, parameter_id=0)\n",
    "assert check_layer_parameter_gradient(layer, X_flattened, parameter_id=1)"
   ]
  },
  {
   "cell_type": "markdown",
   "metadata": {},
   "source": [
    "## Последовательность слоёв"
   ]
  },
  {
   "cell_type": "code",
   "execution_count": 17,
   "metadata": {},
   "outputs": [
    {
     "name": "stdout",
     "output_type": "stream",
     "text": [
      "Checking gradient. W/B shape: (25, 2)\n",
      "Gradients are different at (0, 1). Analytic: -0.004031461885862383, Numeric: -0.026493509475145057\n",
      "Checking gradient. W/B shape: (2,)\n",
      "Gradients are different at (1,). Analytic: 0.009503352373807956, Numeric: 0.062453626492597884\n",
      "Checking gradient. W/B shape: (18, 4)\n",
      "Gradient check passed!\n",
      "Checking gradient. W/B shape: (4,)\n",
      "Gradient check passed!\n",
      "Checking gradient. W/B shape: (64, 32)\n",
      "Gradient check passed!\n",
      "Checking gradient. W/B shape: (32,)\n",
      "Gradient check passed!\n",
      "Checking gradient. W/B shape: (32, 10)\n",
      "Gradient check passed!\n",
      "Checking gradient. W/B shape: (10,)\n",
      "Gradient check passed!\n"
     ]
    }
   ],
   "source": [
    "model = Classifier([Conv2d(in_channels=1, out_channels=2, kernel_size=5),\n",
    "                    MaxPool2d(4, 4),\n",
    "                    ReLU(),\n",
    "                    Conv2d(in_channels=2, out_channels=4, kernel_size=3),\n",
    "                    ReLU(),\n",
    "                    Flattener(),\n",
    "                    Linear(4 * 4 * 4, 32),\n",
    "                    ReLU(),\n",
    "                    Dropout(p=0.5, train=True, grad_check=True),\n",
    "                    Linear(32, 10)])\n",
    "\n",
    "check_model_gradient(model, X, y, cross_entropy_with_grad)"
   ]
  },
  {
   "cell_type": "markdown",
   "metadata": {},
   "source": [
    "### MaxPool2d подпортил результаты самого первого Conv2d. Градиенты остальных слоёв посчитались верно."
   ]
  }
 ],
 "metadata": {
  "kernelspec": {
   "display_name": "Python 3",
   "language": "python",
   "name": "python3"
  },
  "language_info": {
   "codemirror_mode": {
    "name": "ipython",
    "version": 3
   },
   "file_extension": ".py",
   "mimetype": "text/x-python",
   "name": "python",
   "nbconvert_exporter": "python",
   "pygments_lexer": "ipython3",
   "version": "3.7.5"
  }
 },
 "nbformat": 4,
 "nbformat_minor": 4
}
