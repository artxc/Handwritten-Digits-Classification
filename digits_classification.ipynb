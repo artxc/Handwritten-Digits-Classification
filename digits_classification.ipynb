{
 "cells": [
  {
   "cell_type": "code",
   "execution_count": 1,
   "metadata": {},
   "outputs": [],
   "source": [
    "%reload_ext autoreload\n",
    "%autoreload 2\n",
    "%matplotlib inline"
   ]
  },
  {
   "cell_type": "code",
   "execution_count": 2,
   "metadata": {},
   "outputs": [],
   "source": [
    "import matplotlib.pyplot as plt\n",
    "import numpy as np\n",
    "\n",
    "from sklearn import datasets\n",
    "from sklearn.metrics import accuracy_score\n",
    "from sklearn.model_selection import train_test_split\n",
    "\n",
    "from models import Classifier, cross_entropy_with_grad\n",
    "from optimizers import MomentumSGD\n",
    "from layers import *"
   ]
  },
  {
   "cell_type": "code",
   "execution_count": 3,
   "metadata": {},
   "outputs": [],
   "source": [
    "np.random.seed(42)"
   ]
  },
  {
   "cell_type": "markdown",
   "metadata": {},
   "source": [
    "## Посмотрим на данные"
   ]
  },
  {
   "cell_type": "code",
   "execution_count": 4,
   "metadata": {},
   "outputs": [
    {
     "data": {
      "image/png": "[encoded data removed]",
      "text/plain": [
       "<Figure size 432x288 with 30 Axes>"
      ]
     },
     "metadata": {
      "needs_background": "light"
     },
     "output_type": "display_data"
    }
   ],
   "source": [
    "digits = datasets.load_digits()\n",
    "\n",
    "for plot_index in range(30):\n",
    "    plt.subplot(3, 10, plot_index + 1)\n",
    "    plt.imshow(digits.images[plot_index], cmap=plt.cm.gray_r)\n",
    "    plt.axis('off')"
   ]
  },
  {
   "cell_type": "code",
   "execution_count": 5,
   "metadata": {},
   "outputs": [
    {
     "data": {
      "text/plain": [
       "(1797, 8, 8)"
      ]
     },
     "execution_count": 5,
     "metadata": {},
     "output_type": "execute_result"
    }
   ],
   "source": [
    "X = digits.images\n",
    "X.shape"
   ]
  },
  {
   "cell_type": "markdown",
   "metadata": {},
   "source": [
    "## Вычтем из пикселей среднее и добавим размерность"
   ]
  },
  {
   "cell_type": "code",
   "execution_count": 6,
   "metadata": {},
   "outputs": [
    {
     "data": {
      "text/plain": [
       "(1797, 8, 8, 1)"
      ]
     },
     "execution_count": 6,
     "metadata": {},
     "output_type": "execute_result"
    }
   ],
   "source": [
    "X -= np.mean(X, axis=0)\n",
    "X = X[:, :, :, np.newaxis]\n",
    "X.shape"
   ]
  },
  {
   "cell_type": "code",
   "execution_count": 7,
   "metadata": {},
   "outputs": [
    {
     "data": {
      "text/plain": [
       "(1797,)"
      ]
     },
     "execution_count": 7,
     "metadata": {},
     "output_type": "execute_result"
    }
   ],
   "source": [
    "y = digits.target\n",
    "y.shape"
   ]
  },
  {
   "cell_type": "markdown",
   "metadata": {},
   "source": [
    "## Разобъём выборку"
   ]
  },
  {
   "cell_type": "code",
   "execution_count": 8,
   "metadata": {},
   "outputs": [
    {
     "name": "stdout",
     "output_type": "stream",
     "text": [
      "Выборки и их размеры. Train:1149, Validation:288, Test:360\n"
     ]
    }
   ],
   "source": [
    "X_train, X_test, y_train, y_test = train_test_split(X, y, test_size=0.2, stratify=y, shuffle=True, random_state=42)\n",
    "X_train, X_validation, y_train, y_validation = train_test_split(X_train, y_train, test_size=0.2, stratify=y_train, shuffle=True, random_state=42)\n",
    "print(f'Выборки и их размеры. Train:{X_train.shape[0]}, Validation:{X_validation.shape[0]}, Test:{X_test.shape[0]}')"
   ]
  },
  {
   "cell_type": "markdown",
   "metadata": {},
   "source": [
    "## Вспомогательные функции"
   ]
  },
  {
   "cell_type": "code",
   "execution_count": 9,
   "metadata": {},
   "outputs": [],
   "source": [
    "def batches_indices(x, batch_size, shuffle=True):\n",
    "    indices = np.arange(x.shape[0])\n",
    "    if shuffle:\n",
    "        np.random.shuffle(indices)\n",
    "    sections = np.arange(batch_size, x.shape[0], batch_size)\n",
    "    return np.array_split(indices, sections)"
   ]
  },
  {
   "cell_type": "code",
   "execution_count": 10,
   "metadata": {},
   "outputs": [],
   "source": [
    "def compute_accuracy(X, y, batch_size, model):\n",
    "    pred = np.zeros_like(y)\n",
    "    for batch_indices in batches_indices(X, batch_size, shuffle=False):\n",
    "        pred[batch_indices] = np.argmax(model(X[batch_indices]), axis=1)\n",
    "    return accuracy_score(y, pred)"
   ]
  },
  {
   "cell_type": "code",
   "execution_count": 11,
   "metadata": {},
   "outputs": [],
   "source": [
    "def plot_loss_history(train_history, valid_history):\n",
    "    plt.figure(figsize=(8, 4))\n",
    "    plt.plot(range(len(train_history)), train_history, label='train')\n",
    "    plt.plot(range(len(valid_history)), valid_history, label='validation')\n",
    "    plt.xlabel(\"Epoch\", fontsize=14)\n",
    "    plt.ylabel(\"Loss\", fontsize=14)\n",
    "    plt.legend(prop={'size': 14})\n",
    "    plt.show()"
   ]
  },
  {
   "cell_type": "markdown",
   "metadata": {},
   "source": [
    "# Train loop"
   ]
  },
  {
   "cell_type": "code",
   "execution_count": 12,
   "metadata": {},
   "outputs": [],
   "source": [
    "def train(model, optimizer_class, epochs=20, batch_size=16, **optimizer_args):\n",
    "    optimizer = optimizer_class(model.parameters(), **optimizer_args)\n",
    "    \n",
    "    train_losses, valid_losses = [], []\n",
    "    \n",
    "    best_valid_loss = float('inf')\n",
    "    best_parameters = None\n",
    "    best_epoch = 0\n",
    "\n",
    "    for epoch in range(epochs):\n",
    "        # Train\n",
    "        epoch_loss = 0.0\n",
    "        for batch_indices in batches_indices(X_train, batch_size, shuffle=True):\n",
    "            loss, grad = cross_entropy_with_grad(model(X_train[batch_indices]), y_train[batch_indices])\n",
    "            optimizer.zero_grad()\n",
    "            model.backward(grad)\n",
    "            optimizer.step()\n",
    "            epoch_loss += loss * len(batch_indices)\n",
    "        train_losses.append(epoch_loss / len(y_train))\n",
    "        train_acc = compute_accuracy(X_train, y_train, batch_size, model)\n",
    "\n",
    "        # Evaluation\n",
    "        epoch_loss = 0.0\n",
    "        for  batch_indices in batches_indices(X_validation, batch_size, shuffle=False):\n",
    "            loss, _ = cross_entropy_with_grad(model(X_validation[batch_indices]), y_validation[batch_indices])\n",
    "            epoch_loss += loss * len(batch_indices)\n",
    "        valid_losses.append(epoch_loss / len(y_validation))\n",
    "        valid_acc = compute_accuracy(X_validation, y_validation, batch_size, model)\n",
    "        \n",
    "        print(f'Epoch {epoch} | Train loss {train_losses[-1]} | Validation loss {valid_losses[-1]} | Train accuracy {round(train_acc, 2)} | Validation accuracy {round(valid_acc, 2)}')\n",
    "\n",
    "        if best_valid_loss > valid_losses[-1]:\n",
    "            best_valid_loss = valid_losses[-1]\n",
    "            best_parameters = [parameter.value.copy() for parameter in model.parameters()]\n",
    "            best_epoch = epoch\n",
    "            \n",
    "    print(f'\\nЭпоха, на которой был достигнут наименьший Validation loss: {best_epoch}\\n')\n",
    "    for parameter, best_parameter in zip(model.parameters(), best_parameters):\n",
    "        parameter.value = best_parameter\n",
    "                            \n",
    "    return train_losses, valid_losses"
   ]
  },
  {
   "cell_type": "markdown",
   "metadata": {},
   "source": [
    "## Эксперименты показали, что без MaxPool2d качество лучше."
   ]
  },
  {
   "cell_type": "code",
   "execution_count": 13,
   "metadata": {},
   "outputs": [
    {
     "name": "stdout",
     "output_type": "stream",
     "text": [
      "Epoch 0 | Train loss 5.781864558890051 | Validation loss 1.3815473657856334 | Train accuracy 0.97 | Validation accuracy 0.95\n",
      "Epoch 1 | Train loss 1.3003178659585493 | Validation loss 2.0922237210390424 | Train accuracy 0.96 | Validation accuracy 0.93\n",
      "Epoch 2 | Train loss 0.7199480468250689 | Validation loss 0.9949472768155757 | Train accuracy 0.99 | Validation accuracy 0.97\n",
      "Epoch 3 | Train loss 0.5001455452918331 | Validation loss 0.8394842133319536 | Train accuracy 1.0 | Validation accuracy 0.98\n",
      "Epoch 4 | Train loss 0.1747177255639048 | Validation loss 0.7195578415606378 | Train accuracy 1.0 | Validation accuracy 0.98\n",
      "Epoch 5 | Train loss 0.12022511333527737 | Validation loss 0.5023693496133694 | Train accuracy 1.0 | Validation accuracy 0.98\n",
      "Epoch 6 | Train loss 0.10299348137844636 | Validation loss 0.7207440705891313 | Train accuracy 0.99 | Validation accuracy 0.98\n",
      "Epoch 7 | Train loss 0.09018004656303369 | Validation loss 0.7886489624987819 | Train accuracy 1.0 | Validation accuracy 0.97\n",
      "Epoch 8 | Train loss 0.030059890469901773 | Validation loss 0.6582347950033415 | Train accuracy 1.0 | Validation accuracy 0.98\n",
      "Epoch 9 | Train loss 5.505519011246654e-06 | Validation loss 0.6587265478993897 | Train accuracy 1.0 | Validation accuracy 0.98\n",
      "\n",
      "Эпоха, на которой был достигнут наименьший Validation loss: 5\n",
      "\n"
     ]
    },
    {
     "data": {
      "image/png": "[encoded data removed]",
      "text/plain": [
       "<Figure size 576x288 with 1 Axes>"
      ]
     },
     "metadata": {
      "needs_background": "light"
     },
     "output_type": "display_data"
    },
    {
     "name": "stdout",
     "output_type": "stream",
     "text": [
      "\n",
      "Accuracy на тестовой выборке: 0.9805555555555555\n"
     ]
    }
   ],
   "source": [
    "model = Classifier([Conv2d(in_channels=1, out_channels=16, kernel_size=3, padding=1),\n",
    "                    ReLU(),\n",
    "                    Conv2d(in_channels=16, out_channels=32, kernel_size=3, padding=1),\n",
    "                    ReLU(),\n",
    "                    Flattener(),\n",
    "                    Linear(8 * 8 * 32, 10)])\n",
    "\n",
    "train_history, valid_history = train(model, MomentumSGD, epochs=10, batch_size=16, lr=1e-4, momentum=0.95)\n",
    "\n",
    "plot_loss_history(train_history, valid_history)\n",
    "\n",
    "print(f'\\nAccuracy на тестовой выборке: {accuracy_score(y_test, np.argmax(model(X_test), axis=1))}')"
   ]
  },
  {
   "cell_type": "markdown",
   "metadata": {},
   "source": [
    "## Но MaxPool2d работает исправно"
   ]
  },
  {
   "cell_type": "code",
   "execution_count": 14,
   "metadata": {},
   "outputs": [
    {
     "name": "stdout",
     "output_type": "stream",
     "text": [
      "Epoch 0 | Train loss 12.101831114888318 | Validation loss 4.47179101656186 | Train accuracy 0.86 | Validation accuracy 0.86\n",
      "Epoch 1 | Train loss 3.594982876585807 | Validation loss 2.887744857471342 | Train accuracy 0.94 | Validation accuracy 0.9\n",
      "Epoch 2 | Train loss 1.7411291062275824 | Validation loss 2.372691794093299 | Train accuracy 0.95 | Validation accuracy 0.92\n",
      "Epoch 3 | Train loss 1.0187571524258041 | Validation loss 2.315119820338174 | Train accuracy 0.97 | Validation accuracy 0.92\n",
      "Epoch 4 | Train loss 0.7033462280589279 | Validation loss 2.6756109931031777 | Train accuracy 0.95 | Validation accuracy 0.9\n",
      "Epoch 5 | Train loss 0.9315924241317262 | Validation loss 1.785915050564892 | Train accuracy 0.98 | Validation accuracy 0.93\n",
      "Epoch 6 | Train loss 0.3719532679957513 | Validation loss 1.6186154813817202 | Train accuracy 0.99 | Validation accuracy 0.94\n",
      "Epoch 7 | Train loss 0.23136364006019716 | Validation loss 1.596926594594811 | Train accuracy 1.0 | Validation accuracy 0.94\n",
      "Epoch 8 | Train loss 0.13462439815922175 | Validation loss 1.5684617983323212 | Train accuracy 0.99 | Validation accuracy 0.94\n",
      "Epoch 9 | Train loss 0.12775015277711588 | Validation loss 1.7454048349973568 | Train accuracy 0.99 | Validation accuracy 0.94\n",
      "\n",
      "Эпоха, на которой был достигнут наименьший Validation loss: 8\n",
      "\n"
     ]
    },
    {
     "data": {
      "image/png": "[encoded data removed]",
      "text/plain": [
       "<Figure size 576x288 with 1 Axes>"
      ]
     },
     "metadata": {
      "needs_background": "light"
     },
     "output_type": "display_data"
    },
    {
     "name": "stdout",
     "output_type": "stream",
     "text": [
      "\n",
      "Accuracy на тестовой выборке: 0.9388888888888889\n"
     ]
    }
   ],
   "source": [
    "model = Classifier([Conv2d(in_channels=1, out_channels=16, kernel_size=3, padding=1),\n",
    "                    ReLU(),\n",
    "                    MaxPool2d(2,2),\n",
    "                    Conv2d(in_channels=16, out_channels=32, kernel_size=3, padding=1),\n",
    "                    ReLU(),\n",
    "                    Flattener(),\n",
    "                    Linear(4 * 4 * 32, 10)])\n",
    "\n",
    "train_history, valid_history = train(model, MomentumSGD, epochs=10, batch_size=16, lr=1e-4, momentum=0.95)\n",
    "\n",
    "plot_loss_history(train_history, valid_history)\n",
    "\n",
    "print(f'\\nAccuracy на тестовой выборке: {accuracy_score(y_test, np.argmax(model(X_test), axis=1))}')"
   ]
  }
 ],
 "metadata": {
  "kernelspec": {
   "display_name": "Python 3",
   "language": "python",
   "name": "python3"
  },
  "language_info": {
   "codemirror_mode": {
    "name": "ipython",
    "version": 3
   },
   "file_extension": ".py",
   "mimetype": "text/x-python",
   "name": "python",
   "nbconvert_exporter": "python",
   "pygments_lexer": "ipython3",
   "version": "3.7.5"
  }
 },
 "nbformat": 4,
 "nbformat_minor": 4
}
