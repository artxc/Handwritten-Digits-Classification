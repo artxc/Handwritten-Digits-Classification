{
 "cells": [
  {
   "cell_type": "code",
   "execution_count": 1,
   "metadata": {},
   "outputs": [],
   "source": [
    "%reload_ext autoreload\n",
    "%autoreload 2\n",
    "%matplotlib inline"
   ]
  },
  {
   "cell_type": "code",
   "execution_count": 2,
   "metadata": {},
   "outputs": [],
   "source": [
    "import numpy as np\n",
    "import matplotlib.pyplot as plt\n",
    "\n",
    "from sklearn.metrics import accuracy_score\n",
    "from sklearn.model_selection import train_test_split\n",
    "from torchvision import datasets\n",
    "\n",
    "from models import Classifier, cross_entropy_with_grad\n",
    "from optimizers import MomentumSGD\n",
    "from layers import *"
   ]
  },
  {
   "cell_type": "code",
   "execution_count": 3,
   "metadata": {},
   "outputs": [],
   "source": [
    "np.random.seed(42)"
   ]
  },
  {
   "cell_type": "markdown",
   "metadata": {},
   "source": [
    "## Загрузим MNIST"
   ]
  },
  {
   "cell_type": "code",
   "execution_count": 4,
   "metadata": {},
   "outputs": [],
   "source": [
    "train_dataset = datasets.MNIST('./data', train=True, download=True)\n",
    "test_dataset = datasets.MNIST('./data', train=False, download=True)\n",
    "\n",
    "X_train, y_train = train_dataset.data.numpy(), train_dataset.targets.numpy()\n",
    "X_test, y_test = test_dataset.data.numpy(), test_dataset.targets.numpy()"
   ]
  },
  {
   "cell_type": "markdown",
   "metadata": {},
   "source": [
    "## Посмотрим на картинки"
   ]
  },
  {
   "cell_type": "code",
   "execution_count": 5,
   "metadata": {},
   "outputs": [
    {
     "data": {
      "image/png": "[encoded data removed]",
      "text/plain": [
       "<Figure size 432x288 with 30 Axes>"
      ]
     },
     "metadata": {
      "needs_background": "light"
     },
     "output_type": "display_data"
    }
   ],
   "source": [
    "for plot_index in range(30):\n",
    "    plt.subplot(3, 10, plot_index + 1)\n",
    "    plt.imshow(X_train[plot_index], cmap=plt.cm.gray_r)\n",
    "    plt.axis('off')"
   ]
  },
  {
   "cell_type": "markdown",
   "metadata": {},
   "source": [
    "## Обработаем данные"
   ]
  },
  {
   "cell_type": "code",
   "execution_count": 6,
   "metadata": {},
   "outputs": [
    {
     "name": "stdout",
     "output_type": "stream",
     "text": [
      "Train shape: (60000, 28, 28, 1), Test_shape: (10000, 28, 28, 1)\n"
     ]
    }
   ],
   "source": [
    "X_train, X_test = X_train.astype(float, copy=False), X_test.astype(float, copy=False)\n",
    "\n",
    "X_train, X_test = X_train / 255, X_test / 255\n",
    "\n",
    "mean, std = 0.1307, 0.3081\n",
    "X_train = (X_train - mean) / std\n",
    "X_test = (X_test - mean) / std\n",
    "\n",
    "X_train, X_test = X_train[:, :, :, np.newaxis], X_test[:, :, :, np.newaxis]\n",
    "print(f'Train shape: {X_train.shape}, Test_shape: {X_test.shape}')"
   ]
  },
  {
   "cell_type": "markdown",
   "metadata": {},
   "source": [
    "## Разобъём train выборку"
   ]
  },
  {
   "cell_type": "code",
   "execution_count": 7,
   "metadata": {},
   "outputs": [],
   "source": [
    "X_train, X_validation, y_train, y_validation = train_test_split(X_train, y_train, test_size=1000, stratify=y_train, shuffle=True, random_state=42)"
   ]
  },
  {
   "cell_type": "markdown",
   "metadata": {},
   "source": [
    "## Вспомогательные функции"
   ]
  },
  {
   "cell_type": "code",
   "execution_count": 8,
   "metadata": {},
   "outputs": [],
   "source": [
    "def batches_indices(x, batch_size, shuffle=True):\n",
    "    indices = np.arange(x.shape[0])\n",
    "    if shuffle:\n",
    "        np.random.shuffle(indices)\n",
    "    sections = np.arange(batch_size, x.shape[0], batch_size)\n",
    "    return np.array_split(indices, sections)"
   ]
  },
  {
   "cell_type": "code",
   "execution_count": 9,
   "metadata": {},
   "outputs": [],
   "source": [
    "def compute_accuracy(X, y, batch_size, model):\n",
    "    pred = np.zeros_like(y)\n",
    "    for batch_indices in batches_indices(X, batch_size, shuffle=False):\n",
    "        pred[batch_indices] = np.argmax(model(X[batch_indices]), axis=1)\n",
    "    return accuracy_score(y, pred)"
   ]
  },
  {
   "cell_type": "code",
   "execution_count": 10,
   "metadata": {},
   "outputs": [],
   "source": [
    "def plot_loss_history(train_history, valid_history):\n",
    "    plt.figure(figsize=(8, 4))\n",
    "    plt.plot(range(len(train_history)), train_history, label='train')\n",
    "    plt.plot(range(len(valid_history)), valid_history, label='validation')\n",
    "    plt.xlabel(\"Epoch\", fontsize=14)\n",
    "    plt.ylabel(\"Loss\", fontsize=14)\n",
    "    plt.legend(prop={'size': 14})\n",
    "    plt.show()"
   ]
  },
  {
   "cell_type": "markdown",
   "metadata": {},
   "source": [
    "# Train loop"
   ]
  },
  {
   "cell_type": "code",
   "execution_count": 11,
   "metadata": {},
   "outputs": [],
   "source": [
    "def train(model, optimizer_class, epochs, batch_size, eval_batch_size, **optimizer_args):\n",
    "    optimizer = optimizer_class(model.parameters(), **optimizer_args)\n",
    "    \n",
    "    train_losses, valid_losses = [], []\n",
    "    \n",
    "    best_valid_acc = 0.0\n",
    "    best_parameters = None\n",
    "    best_epoch = 0\n",
    "\n",
    "    for epoch in range(epochs):\n",
    "        # Train\n",
    "        model.train()\n",
    "        epoch_loss = 0.0\n",
    "        for batch_indices in batches_indices(X_train, batch_size, shuffle=True):\n",
    "            loss, grad = cross_entropy_with_grad(model(X_train[batch_indices]), y_train[batch_indices])\n",
    "            optimizer.zero_grad()\n",
    "            model.backward(grad)\n",
    "            optimizer.step()\n",
    "            epoch_loss += loss * len(batch_indices)\n",
    "        train_losses.append(epoch_loss / len(y_train))\n",
    "        train_acc = compute_accuracy(X_train, y_train, eval_batch_size, model)\n",
    "\n",
    "        # Evaluation\n",
    "        model.eval()\n",
    "        epoch_loss = 0.0\n",
    "        for  batch_indices in batches_indices(X_validation, eval_batch_size, shuffle=False):\n",
    "            loss, _ = cross_entropy_with_grad(model(X_validation[batch_indices]), y_validation[batch_indices])\n",
    "            epoch_loss += loss * len(batch_indices)\n",
    "        valid_losses.append(epoch_loss / len(y_validation))\n",
    "        valid_acc = compute_accuracy(X_validation, y_validation, eval_batch_size, model)\n",
    "        if best_valid_acc < valid_acc:\n",
    "            best_valid_acc = valid_acc\n",
    "            best_parameters = [parameter.value.copy() for parameter in model.parameters()]\n",
    "            best_epoch = epoch\n",
    "        \n",
    "        print(f'Epoch {epoch} | Train loss {train_losses[-1]} | Validation loss {valid_losses[-1]} | Train accuracy {train_acc} | Validation accuracy {valid_acc}')\n",
    "            \n",
    "    print(f'\\nЭпоха, на которой был достигнут наибольший Validation accuracy: {best_epoch}\\n')\n",
    "    for parameter, best_parameter in zip(model.parameters(), best_parameters):\n",
    "        parameter.value = best_parameter\n",
    "                            \n",
    "    return train_losses, valid_losses"
   ]
  },
  {
   "cell_type": "markdown",
   "metadata": {},
   "source": [
    "## Модель"
   ]
  },
  {
   "cell_type": "code",
   "execution_count": 12,
   "metadata": {},
   "outputs": [],
   "source": [
    "model = Classifier([Conv2d(in_channels=1, out_channels=16, kernel_size=5),\n",
    "                    MaxPool2d(2, 2),\n",
    "                    ReLU(),\n",
    "                    Conv2d(in_channels=16, out_channels=32, kernel_size=5),\n",
    "                    MaxPool2d(2, 2),\n",
    "                    ReLU(),\n",
    "                    Flattener(),\n",
    "                    Linear(32 * 4 * 4, 128),\n",
    "                    ReLU(),\n",
    "                    Dropout(p=0.5),\n",
    "                    Linear(128, 10)])"
   ]
  },
  {
   "cell_type": "markdown",
   "metadata": {},
   "source": [
    "## Тренируем"
   ]
  },
  {
   "cell_type": "code",
   "execution_count": 13,
   "metadata": {},
   "outputs": [],
   "source": [
    "eval_batch_size = 1000"
   ]
  },
  {
   "cell_type": "code",
   "execution_count": 14,
   "metadata": {},
   "outputs": [
    {
     "name": "stdout",
     "output_type": "stream",
     "text": [
      "Epoch 0 | Train loss 1.542444178116574 | Validation loss 1.017963034356652 | Train accuracy 0.5831186440677966 | Validation accuracy 0.653\n",
      "Epoch 1 | Train loss 1.109151548998274 | Validation loss 0.9122707549228669 | Train accuracy 0.6357966101694915 | Validation accuracy 0.702\n",
      "Epoch 2 | Train loss 1.0110057592474013 | Validation loss 0.890950442001431 | Train accuracy 0.6629830508474577 | Validation accuracy 0.716\n",
      "Epoch 3 | Train loss 0.9507918236826768 | Validation loss 0.7651428192335279 | Train accuracy 0.6881694915254237 | Validation accuracy 0.756\n",
      "Epoch 4 | Train loss 0.9145932968568936 | Validation loss 0.7718973291242333 | Train accuracy 0.6998305084745763 | Validation accuracy 0.75\n",
      "Epoch 5 | Train loss 0.891292213243417 | Validation loss 0.7366135613222341 | Train accuracy 0.7064237288135593 | Validation accuracy 0.761\n",
      "Epoch 6 | Train loss 0.8674065668403976 | Validation loss 0.701171074554595 | Train accuracy 0.7208474576271187 | Validation accuracy 0.768\n",
      "Epoch 7 | Train loss 0.8543840725455667 | Validation loss 0.7235490621135803 | Train accuracy 0.7151864406779661 | Validation accuracy 0.762\n",
      "Epoch 8 | Train loss 0.8414872937422155 | Validation loss 0.7037620136696705 | Train accuracy 0.7232033898305085 | Validation accuracy 0.777\n",
      "Epoch 9 | Train loss 0.8322877780285562 | Validation loss 0.6876379262073294 | Train accuracy 0.7247118644067797 | Validation accuracy 0.767\n",
      "Epoch 10 | Train loss 0.8213815441979587 | Validation loss 0.6915931648577983 | Train accuracy 0.7296949152542372 | Validation accuracy 0.778\n",
      "Epoch 11 | Train loss 0.8140277497502365 | Validation loss 0.6812066645763887 | Train accuracy 0.7332881355932204 | Validation accuracy 0.781\n",
      "Epoch 12 | Train loss 0.8082368304636119 | Validation loss 0.6876206821333496 | Train accuracy 0.7325423728813559 | Validation accuracy 0.774\n",
      "Epoch 13 | Train loss 0.8148069270552675 | Validation loss 0.7418780229442606 | Train accuracy 0.7109491525423729 | Validation accuracy 0.768\n",
      "Epoch 14 | Train loss 0.8138768910995896 | Validation loss 0.7009928139953753 | Train accuracy 0.7369661016949153 | Validation accuracy 0.779\n",
      "\n",
      "Эпоха, на которой был достигнут наибольший Validation accuracy: 11\n",
      "\n"
     ]
    }
   ],
   "source": [
    "train_history, valid_history = train(model, MomentumSGD, epochs=15, batch_size=64, eval_batch_size=eval_batch_size, lr=0.01, momentum=0.9)"
   ]
  },
  {
   "cell_type": "markdown",
   "metadata": {},
   "source": [
    "## Посмотрим, как менялся Loss"
   ]
  },
  {
   "cell_type": "code",
   "execution_count": 15,
   "metadata": {},
   "outputs": [
    {
     "data": {
      "image/png": "[encoded data removed]",
      "text/plain": [
       "<Figure size 576x288 with 1 Axes>"
      ]
     },
     "metadata": {
      "needs_background": "light"
     },
     "output_type": "display_data"
    }
   ],
   "source": [
    "plot_loss_history(train_history, valid_history)"
   ]
  },
  {
   "cell_type": "markdown",
   "metadata": {},
   "source": [
    "## Оценим модель на тестовой выборке"
   ]
  },
  {
   "cell_type": "code",
   "execution_count": 16,
   "metadata": {},
   "outputs": [
    {
     "name": "stdout",
     "output_type": "stream",
     "text": [
      "\n",
      "Test accuracy: 0.7578\n"
     ]
    }
   ],
   "source": [
    "print(f'\\nTest accuracy: {compute_accuracy(X_test, y_test, batch_size=eval_batch_size, model=model)}')"
   ]
  }
 ],
 "metadata": {
  "kernelspec": {
   "display_name": "Python 3",
   "language": "python",
   "name": "python3"
  },
  "language_info": {
   "codemirror_mode": {
    "name": "ipython",
    "version": 3
   },
   "file_extension": ".py",
   "mimetype": "text/x-python",
   "name": "python",
   "nbconvert_exporter": "python",
   "pygments_lexer": "ipython3",
   "version": "3.7.5"
  }
 },
 "nbformat": 4,
 "nbformat_minor": 4
}
